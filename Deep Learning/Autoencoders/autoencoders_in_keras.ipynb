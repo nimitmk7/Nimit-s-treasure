{
 "cells": [
  {
   "cell_type": "markdown",
   "metadata": {},
   "source": [
    "### Let's build the simplest possible autoencoder"
   ]
  },
  {
   "cell_type": "markdown",
   "metadata": {},
   "source": [
    "Referenced from: https://blog.keras.io/building-autoencoders-in-keras.html "
   ]
  },
  {
   "cell_type": "code",
   "execution_count": 8,
   "metadata": {},
   "outputs": [],
   "source": [
    "import keras\n",
    "from keras import layers"
   ]
  },
  {
   "cell_type": "markdown",
   "metadata": {},
   "source": [
    "We'll start simple, with a single fully-connected neural layer as encoder and as decoder:"
   ]
  },
  {
   "cell_type": "code",
   "execution_count": 11,
   "metadata": {},
   "outputs": [],
   "source": [
    "# This is the size of our encoded representations\n",
    "encoding_dim = 32\n",
    "\n",
    "# This is our input image\n",
    "input_img = keras.Input(shape=(784,)) # 32 floats -> compression of factor 24.5, assuming the input is 784 floats\n",
    "\n",
    "# \"encoded\" is the encoded representation of the input\n",
    "encoded = layers.Dense(encoding_dim, activation='relu')(input_img)\n",
    "\n",
    "# \"decoded\" is the lossy reconstruction of the input\n",
    "decoded = layers.Dense(784, activation='sigmoid')(encoded)\n",
    "\n",
    "# This model maps an input to its reconstruction\n",
    "autoencoder = keras.Model(input_img, decoded)"
   ]
  },
  {
   "cell_type": "markdown",
   "metadata": {},
   "source": [
    "Let's also create a separate encoder model:"
   ]
  },
  {
   "cell_type": "code",
   "execution_count": 12,
   "metadata": {},
   "outputs": [],
   "source": [
    "# This model maps an input to its encoded representation\n",
    "encoder = keras.Model(input_img, encoded)"
   ]
  },
  {
   "cell_type": "markdown",
   "metadata": {},
   "source": [
    "As well as the decoder model:\n",
    "\n"
   ]
  },
  {
   "cell_type": "code",
   "execution_count": 13,
   "metadata": {},
   "outputs": [],
   "source": [
    "# This is our encoded (32-dimensional) input\n",
    "encoded_input = keras.Input(shape=(encoding_dim,))\n",
    "\n",
    "# Retrieve the last layer of the autoencoder model\n",
    "decoder_layer = autoencoder.layers[-1]\n",
    "\n",
    "# Create the decoder model\n",
    "decoder = keras.Model(encoded_input, decoder_layer(encoded_input))"
   ]
  },
  {
   "cell_type": "markdown",
   "metadata": {},
   "source": [
    "Now let's train our autoencoder to reconstruct MNIST digits.\n",
    "\n",
    "First, we'll configure our model to use a per-pixel binary crossentropy loss, and the Adam optimizer:"
   ]
  },
  {
   "cell_type": "code",
   "execution_count": 14,
   "metadata": {},
   "outputs": [],
   "source": [
    "autoencoder.compile(optimizer='adam', loss='binary_crossentropy')"
   ]
  },
  {
   "cell_type": "markdown",
   "metadata": {},
   "source": [
    "Let's prepare our input data. We're using MNIST digits, and we're discarding the labels (since we're only interested in encoding/decoding the input images)."
   ]
  },
  {
   "cell_type": "code",
   "execution_count": 15,
   "metadata": {},
   "outputs": [],
   "source": [
    "from keras.datasets import mnist\n",
    "import numpy as np \n",
    "(x_train, _), (x_test, _) = mnist.load_data()"
   ]
  },
  {
   "cell_type": "markdown",
   "metadata": {},
   "source": [
    "We will normalize all values between 0 and 1 and we will flatten the 28x28 images into vectors of size 784.\n",
    "\n"
   ]
  },
  {
   "cell_type": "code",
   "execution_count": 16,
   "metadata": {},
   "outputs": [
    {
     "name": "stdout",
     "output_type": "stream",
     "text": [
      "(60000, 784)\n",
      "(10000, 784)\n"
     ]
    }
   ],
   "source": [
    "x_train = x_train.astype('float32') / 255.\n",
    "x_test = x_test.astype('float32') / 255.\n",
    "x_train = x_train.reshape((len(x_train), np.prod(x_train.shape[1:])))\n",
    "x_test = x_test.reshape((len(x_test), np.prod(x_test.shape[1:])))\n",
    "print(x_train.shape)\n",
    "print(x_test.shape)"
   ]
  },
  {
   "cell_type": "markdown",
   "metadata": {},
   "source": [
    "Now let's train our autoencoder for 50 epochs:\n",
    "\n"
   ]
  },
  {
   "cell_type": "code",
   "execution_count": 17,
   "metadata": {},
   "outputs": [
    {
     "name": "stdout",
     "output_type": "stream",
     "text": [
      "Epoch 1/50\n",
      "235/235 [==============================] - 1s 2ms/step - loss: 0.2742 - val_loss: 0.1901\n",
      "Epoch 2/50\n",
      "235/235 [==============================] - 1s 2ms/step - loss: 0.1711 - val_loss: 0.1538\n",
      "Epoch 3/50\n",
      "235/235 [==============================] - 0s 2ms/step - loss: 0.1444 - val_loss: 0.1336\n",
      "Epoch 4/50\n",
      "235/235 [==============================] - 0s 2ms/step - loss: 0.1282 - val_loss: 0.1207\n",
      "Epoch 5/50\n",
      "235/235 [==============================] - 0s 2ms/step - loss: 0.1177 - val_loss: 0.1124\n",
      "Epoch 6/50\n",
      "235/235 [==============================] - 0s 2ms/step - loss: 0.1109 - val_loss: 0.1070\n",
      "Epoch 7/50\n",
      "235/235 [==============================] - 1s 2ms/step - loss: 0.1061 - val_loss: 0.1029\n",
      "Epoch 8/50\n",
      "235/235 [==============================] - 1s 2ms/step - loss: 0.1027 - val_loss: 0.1001\n",
      "Epoch 9/50\n",
      "235/235 [==============================] - 0s 2ms/step - loss: 0.1001 - val_loss: 0.0978\n",
      "Epoch 10/50\n",
      "235/235 [==============================] - 0s 2ms/step - loss: 0.0981 - val_loss: 0.0960\n",
      "Epoch 11/50\n",
      "235/235 [==============================] - 0s 2ms/step - loss: 0.0967 - val_loss: 0.0949\n",
      "Epoch 12/50\n",
      "235/235 [==============================] - 1s 2ms/step - loss: 0.0958 - val_loss: 0.0942\n",
      "Epoch 13/50\n",
      "235/235 [==============================] - 1s 2ms/step - loss: 0.0952 - val_loss: 0.0936\n",
      "Epoch 14/50\n",
      "235/235 [==============================] - 1s 2ms/step - loss: 0.0947 - val_loss: 0.0933\n",
      "Epoch 15/50\n",
      "235/235 [==============================] - 1s 2ms/step - loss: 0.0944 - val_loss: 0.0930\n",
      "Epoch 16/50\n",
      "235/235 [==============================] - 1s 2ms/step - loss: 0.0942 - val_loss: 0.0929\n",
      "Epoch 17/50\n",
      "235/235 [==============================] - 1s 2ms/step - loss: 0.0940 - val_loss: 0.0926\n",
      "Epoch 18/50\n",
      "235/235 [==============================] - 1s 2ms/step - loss: 0.0939 - val_loss: 0.0926\n",
      "Epoch 19/50\n",
      "235/235 [==============================] - 1s 2ms/step - loss: 0.0937 - val_loss: 0.0924\n",
      "Epoch 20/50\n",
      "235/235 [==============================] - 1s 2ms/step - loss: 0.0936 - val_loss: 0.0924\n",
      "Epoch 21/50\n",
      "235/235 [==============================] - 1s 2ms/step - loss: 0.0935 - val_loss: 0.0923\n",
      "Epoch 22/50\n",
      "235/235 [==============================] - 1s 2ms/step - loss: 0.0934 - val_loss: 0.0921\n",
      "Epoch 23/50\n",
      "235/235 [==============================] - 1s 2ms/step - loss: 0.0934 - val_loss: 0.0921\n",
      "Epoch 24/50\n",
      "235/235 [==============================] - 1s 2ms/step - loss: 0.0933 - val_loss: 0.0920\n",
      "Epoch 25/50\n",
      "235/235 [==============================] - 1s 2ms/step - loss: 0.0933 - val_loss: 0.0921\n",
      "Epoch 26/50\n",
      "235/235 [==============================] - 1s 2ms/step - loss: 0.0932 - val_loss: 0.0919\n",
      "Epoch 27/50\n",
      "235/235 [==============================] - 1s 2ms/step - loss: 0.0932 - val_loss: 0.0919\n",
      "Epoch 28/50\n",
      "235/235 [==============================] - 1s 2ms/step - loss: 0.0931 - val_loss: 0.0919\n",
      "Epoch 29/50\n",
      "235/235 [==============================] - 1s 2ms/step - loss: 0.0931 - val_loss: 0.0918\n",
      "Epoch 30/50\n",
      "235/235 [==============================] - 1s 2ms/step - loss: 0.0931 - val_loss: 0.0919\n",
      "Epoch 31/50\n",
      "235/235 [==============================] - 1s 2ms/step - loss: 0.0930 - val_loss: 0.0918\n",
      "Epoch 32/50\n",
      "235/235 [==============================] - 1s 2ms/step - loss: 0.0930 - val_loss: 0.0918\n",
      "Epoch 33/50\n",
      "235/235 [==============================] - 1s 2ms/step - loss: 0.0930 - val_loss: 0.0918\n",
      "Epoch 34/50\n",
      "235/235 [==============================] - 1s 2ms/step - loss: 0.0929 - val_loss: 0.0917\n",
      "Epoch 35/50\n",
      "235/235 [==============================] - 1s 2ms/step - loss: 0.0929 - val_loss: 0.0917\n",
      "Epoch 36/50\n",
      "235/235 [==============================] - 1s 2ms/step - loss: 0.0929 - val_loss: 0.0916\n",
      "Epoch 37/50\n",
      "235/235 [==============================] - 1s 2ms/step - loss: 0.0929 - val_loss: 0.0916\n",
      "Epoch 38/50\n",
      "235/235 [==============================] - 1s 2ms/step - loss: 0.0928 - val_loss: 0.0917\n",
      "Epoch 39/50\n",
      "235/235 [==============================] - 1s 2ms/step - loss: 0.0928 - val_loss: 0.0916\n",
      "Epoch 40/50\n",
      "235/235 [==============================] - 1s 2ms/step - loss: 0.0928 - val_loss: 0.0917\n",
      "Epoch 41/50\n",
      "235/235 [==============================] - 1s 2ms/step - loss: 0.0928 - val_loss: 0.0917\n",
      "Epoch 42/50\n",
      "235/235 [==============================] - 1s 2ms/step - loss: 0.0928 - val_loss: 0.0917\n",
      "Epoch 43/50\n",
      "235/235 [==============================] - 1s 2ms/step - loss: 0.0928 - val_loss: 0.0916\n",
      "Epoch 44/50\n",
      "235/235 [==============================] - 1s 2ms/step - loss: 0.0927 - val_loss: 0.0917\n",
      "Epoch 45/50\n",
      "235/235 [==============================] - 1s 2ms/step - loss: 0.0927 - val_loss: 0.0916\n",
      "Epoch 46/50\n",
      "235/235 [==============================] - 1s 2ms/step - loss: 0.0927 - val_loss: 0.0916\n",
      "Epoch 47/50\n",
      "235/235 [==============================] - 1s 2ms/step - loss: 0.0927 - val_loss: 0.0916\n",
      "Epoch 48/50\n",
      "235/235 [==============================] - 1s 2ms/step - loss: 0.0927 - val_loss: 0.0916\n",
      "Epoch 49/50\n",
      "235/235 [==============================] - 1s 2ms/step - loss: 0.0927 - val_loss: 0.0915\n",
      "Epoch 50/50\n",
      "235/235 [==============================] - 1s 2ms/step - loss: 0.0927 - val_loss: 0.0916\n"
     ]
    },
    {
     "data": {
      "text/plain": [
       "<keras.src.callbacks.History at 0x17c52ce90>"
      ]
     },
     "execution_count": 17,
     "metadata": {},
     "output_type": "execute_result"
    }
   ],
   "source": [
    "autoencoder.fit(x_train, x_train, epochs=50, batch_size=256, shuffle=True, validation_data=(x_test, x_test))\n"
   ]
  },
  {
   "cell_type": "markdown",
   "metadata": {},
   "source": [
    "After 50 epochs, the autoencoder seems to reach a stable train/validation loss value of about 0.09. We can try to visualize the reconstructed inputs and the encoded representations. We will use Matplotlib."
   ]
  },
  {
   "cell_type": "code",
   "execution_count": 18,
   "metadata": {},
   "outputs": [
    {
     "name": "stdout",
     "output_type": "stream",
     "text": [
      "313/313 [==============================] - 0s 259us/step\n",
      "313/313 [==============================] - 0s 256us/step\n"
     ]
    }
   ],
   "source": [
    "# Encode and decode some digits\n",
    "# Note that we take them from the *test* set\n",
    "encoded_imgs = encoder.predict(x_test)\n",
    "decoded_imgs = decoder.predict(encoded_imgs)"
   ]
  },
  {
   "cell_type": "code",
   "execution_count": 20,
   "metadata": {},
   "outputs": [
    {
     "data": {
      "image/png": "[encoded data removed]",
      "text/plain": [
       "<Figure size 2000x400 with 20 Axes>"
      ]
     },
     "metadata": {},
     "output_type": "display_data"
    }
   ],
   "source": [
    "# Use Matplotlib (don't ask)\n",
    "import matplotlib.pyplot as plt\n",
    "\n",
    "n = 10  # How many digits we will display\n",
    "plt.figure(figsize=(20, 4))\n",
    "for i in range(n):\n",
    "    # Display original\n",
    "    ax = plt.subplot(2, n, i + 1)\n",
    "    plt.imshow(x_test[i].reshape(28, 28))\n",
    "    plt.gray()\n",
    "    ax.get_xaxis().set_visible(False)\n",
    "    ax.get_yaxis().set_visible(False)\n",
    "\n",
    "    # Display reconstruction\n",
    "    ax = plt.subplot(2, n, i + 1 + n)\n",
    "    plt.imshow(decoded_imgs[i].reshape(28, 28))\n",
    "    plt.gray()\n",
    "    ax.get_xaxis().set_visible(False)\n",
    "    ax.get_yaxis().set_visible(False)\n",
    "plt.show()"
   ]
  },
  {
   "cell_type": "markdown",
   "metadata": {},
   "source": [
    "Here's what we get. The top row is the original digits, and the bottom row is the reconstructed digits. We are losing quite a bit of detail with this basic approach.\n",
    "\n"
   ]
  },
  {
   "cell_type": "markdown",
   "metadata": {},
   "source": [
    "### Adding a sparsity constraint on the encoded representations"
   ]
  },
  {
   "cell_type": "markdown",
   "metadata": {},
   "source": [
    "In the previous example, the representations were only constrained by the size of the hidden layer (32). In such a situation, what typically happens is that the hidden layer is learning an approximation of PCA (principal component analysis). But another way to constrain the representations to be compact is to add a sparsity contraint on the activity of the hidden representations, so fewer units would \"fire\" at a given time. In Keras, this can be done by adding an activity_regularizer to our Dense layer:\n",
    "\n"
   ]
  },
  {
   "cell_type": "code",
   "execution_count": 38,
   "metadata": {},
   "outputs": [],
   "source": [
    "from keras import regularizers\n",
    "\n",
    "encoding_dim = 32\n",
    "\n",
    "input_img = keras.Input(shape=(784,))\n",
    "\n",
    "# Add a Dense layer with a L1 activity regularizer\n",
    "encoded = layers.Dense(encoding_dim, activation='relu',\n",
    "                activity_regularizer=regularizers.l1(10e-5))(input_img)\n",
    "decoded = layers.Dense(784, activation='sigmoid')(encoded)\n",
    "\n",
    "autoencoder = keras.Model(input_img, decoded)"
   ]
  },
  {
   "cell_type": "code",
   "execution_count": 39,
   "metadata": {},
   "outputs": [],
   "source": [
    "autoencoder.compile(optimizer='adam', loss='binary_crossentropy')"
   ]
  },
  {
   "cell_type": "markdown",
   "metadata": {},
   "source": [
    "Let's train this model for 100 epochs (with the added regularization the model is less likely to overfit and can be trained longer). The models ends with a train loss of 0.11 and test loss of 0.10. The difference between the two is mostly due to the regularization term being added to the loss during training (worth about 0.01)."
   ]
  },
  {
   "cell_type": "code",
   "execution_count": 40,
   "metadata": {},
   "outputs": [
    {
     "name": "stdout",
     "output_type": "stream",
     "text": [
      "Epoch 1/100\n",
      "235/235 [==============================] - 1s 3ms/step - loss: 0.2900 - val_loss: 0.2002\n",
      "Epoch 2/100\n",
      "235/235 [==============================] - 1s 3ms/step - loss: 0.1790 - val_loss: 0.1613\n",
      "Epoch 3/100\n",
      "235/235 [==============================] - 1s 2ms/step - loss: 0.1526 - val_loss: 0.1426\n",
      "Epoch 4/100\n",
      "235/235 [==============================] - 1s 3ms/step - loss: 0.1377 - val_loss: 0.1308\n",
      "Epoch 5/100\n",
      "235/235 [==============================] - 1s 3ms/step - loss: 0.1281 - val_loss: 0.1228\n",
      "Epoch 6/100\n",
      "235/235 [==============================] - 1s 3ms/step - loss: 0.1214 - val_loss: 0.1174\n",
      "Epoch 7/100\n",
      "235/235 [==============================] - 1s 3ms/step - loss: 0.1168 - val_loss: 0.1135\n",
      "Epoch 8/100\n",
      "235/235 [==============================] - 1s 2ms/step - loss: 0.1134 - val_loss: 0.1107\n",
      "Epoch 9/100\n",
      "235/235 [==============================] - 1s 2ms/step - loss: 0.1109 - val_loss: 0.1085\n",
      "Epoch 10/100\n",
      "235/235 [==============================] - 1s 2ms/step - loss: 0.1091 - val_loss: 0.1070\n",
      "Epoch 11/100\n",
      "235/235 [==============================] - 1s 2ms/step - loss: 0.1078 - val_loss: 0.1059\n",
      "Epoch 12/100\n",
      "235/235 [==============================] - 1s 3ms/step - loss: 0.1068 - val_loss: 0.1050\n",
      "Epoch 13/100\n",
      "235/235 [==============================] - 1s 3ms/step - loss: 0.1060 - val_loss: 0.1043\n",
      "Epoch 14/100\n",
      "235/235 [==============================] - 1s 3ms/step - loss: 0.1054 - val_loss: 0.1039\n",
      "Epoch 15/100\n",
      "235/235 [==============================] - 1s 2ms/step - loss: 0.1048 - val_loss: 0.1033\n",
      "Epoch 16/100\n",
      "235/235 [==============================] - 1s 3ms/step - loss: 0.1044 - val_loss: 0.1028\n",
      "Epoch 17/100\n",
      "235/235 [==============================] - 1s 3ms/step - loss: 0.1039 - val_loss: 0.1025\n",
      "Epoch 18/100\n",
      "235/235 [==============================] - 1s 3ms/step - loss: 0.1036 - val_loss: 0.1021\n",
      "Epoch 19/100\n",
      "235/235 [==============================] - 1s 2ms/step - loss: 0.1032 - val_loss: 0.1018\n",
      "Epoch 20/100\n",
      "235/235 [==============================] - 1s 3ms/step - loss: 0.1029 - val_loss: 0.1015\n",
      "Epoch 21/100\n",
      "235/235 [==============================] - 1s 3ms/step - loss: 0.1026 - val_loss: 0.1013\n",
      "Epoch 22/100\n",
      "235/235 [==============================] - 1s 3ms/step - loss: 0.1024 - val_loss: 0.1010\n",
      "Epoch 23/100\n",
      "235/235 [==============================] - 1s 3ms/step - loss: 0.1021 - val_loss: 0.1008\n",
      "Epoch 24/100\n",
      "235/235 [==============================] - 1s 3ms/step - loss: 0.1019 - val_loss: 0.1006\n",
      "Epoch 25/100\n",
      "235/235 [==============================] - 1s 3ms/step - loss: 0.1017 - val_loss: 0.1004\n",
      "Epoch 26/100\n",
      "235/235 [==============================] - 1s 3ms/step - loss: 0.1015 - val_loss: 0.1002\n",
      "Epoch 27/100\n",
      "235/235 [==============================] - 1s 3ms/step - loss: 0.1013 - val_loss: 0.1001\n",
      "Epoch 28/100\n",
      "235/235 [==============================] - 1s 2ms/step - loss: 0.1011 - val_loss: 0.0999\n",
      "Epoch 29/100\n",
      "235/235 [==============================] - 1s 2ms/step - loss: 0.1010 - val_loss: 0.0997\n",
      "Epoch 30/100\n",
      "235/235 [==============================] - 1s 3ms/step - loss: 0.1008 - val_loss: 0.0996\n",
      "Epoch 31/100\n",
      "235/235 [==============================] - 1s 3ms/step - loss: 0.1007 - val_loss: 0.0995\n",
      "Epoch 32/100\n",
      "235/235 [==============================] - 1s 3ms/step - loss: 0.1005 - val_loss: 0.0993\n",
      "Epoch 33/100\n",
      "235/235 [==============================] - 1s 3ms/step - loss: 0.1004 - val_loss: 0.0992\n",
      "Epoch 34/100\n",
      "235/235 [==============================] - 1s 3ms/step - loss: 0.1003 - val_loss: 0.0991\n",
      "Epoch 35/100\n",
      "235/235 [==============================] - 1s 2ms/step - loss: 0.1002 - val_loss: 0.0990\n",
      "Epoch 36/100\n",
      "235/235 [==============================] - 1s 2ms/step - loss: 0.1000 - val_loss: 0.0989\n",
      "Epoch 37/100\n",
      "235/235 [==============================] - 1s 2ms/step - loss: 0.0999 - val_loss: 0.0988\n",
      "Epoch 38/100\n",
      "235/235 [==============================] - 1s 2ms/step - loss: 0.0998 - val_loss: 0.0987\n",
      "Epoch 39/100\n",
      "235/235 [==============================] - 1s 3ms/step - loss: 0.0997 - val_loss: 0.0986\n",
      "Epoch 40/100\n",
      "235/235 [==============================] - 1s 3ms/step - loss: 0.0996 - val_loss: 0.0985\n",
      "Epoch 41/100\n",
      "235/235 [==============================] - 1s 2ms/step - loss: 0.0995 - val_loss: 0.0984\n",
      "Epoch 42/100\n",
      "235/235 [==============================] - 1s 3ms/step - loss: 0.0994 - val_loss: 0.0983\n",
      "Epoch 43/100\n",
      "235/235 [==============================] - 1s 2ms/step - loss: 0.0994 - val_loss: 0.0982\n",
      "Epoch 44/100\n",
      "235/235 [==============================] - 1s 3ms/step - loss: 0.0993 - val_loss: 0.0982\n",
      "Epoch 45/100\n",
      "235/235 [==============================] - 1s 3ms/step - loss: 0.0992 - val_loss: 0.0981\n",
      "Epoch 46/100\n",
      "235/235 [==============================] - 1s 3ms/step - loss: 0.0991 - val_loss: 0.0979\n",
      "Epoch 47/100\n",
      "235/235 [==============================] - 1s 3ms/step - loss: 0.0990 - val_loss: 0.0979\n",
      "Epoch 48/100\n",
      "235/235 [==============================] - 1s 3ms/step - loss: 0.0990 - val_loss: 0.0978\n",
      "Epoch 49/100\n",
      "235/235 [==============================] - 1s 2ms/step - loss: 0.0989 - val_loss: 0.0977\n",
      "Epoch 50/100\n",
      "235/235 [==============================] - 1s 2ms/step - loss: 0.0988 - val_loss: 0.0977\n",
      "Epoch 51/100\n",
      "235/235 [==============================] - 1s 3ms/step - loss: 0.0987 - val_loss: 0.0977\n",
      "Epoch 52/100\n",
      "235/235 [==============================] - 1s 3ms/step - loss: 0.0987 - val_loss: 0.0976\n",
      "Epoch 53/100\n",
      "235/235 [==============================] - 1s 2ms/step - loss: 0.0986 - val_loss: 0.0975\n",
      "Epoch 54/100\n",
      "235/235 [==============================] - 1s 2ms/step - loss: 0.0986 - val_loss: 0.0975\n",
      "Epoch 55/100\n",
      "235/235 [==============================] - 1s 2ms/step - loss: 0.0985 - val_loss: 0.0974\n",
      "Epoch 56/100\n",
      "235/235 [==============================] - 1s 2ms/step - loss: 0.0985 - val_loss: 0.0974\n",
      "Epoch 57/100\n",
      "235/235 [==============================] - 1s 3ms/step - loss: 0.0984 - val_loss: 0.0973\n",
      "Epoch 58/100\n",
      "235/235 [==============================] - 1s 2ms/step - loss: 0.0983 - val_loss: 0.0973\n",
      "Epoch 59/100\n",
      "235/235 [==============================] - 1s 3ms/step - loss: 0.0983 - val_loss: 0.0971\n",
      "Epoch 60/100\n",
      "235/235 [==============================] - 1s 2ms/step - loss: 0.0982 - val_loss: 0.0972\n",
      "Epoch 61/100\n",
      "235/235 [==============================] - 1s 2ms/step - loss: 0.0982 - val_loss: 0.0971\n",
      "Epoch 62/100\n",
      "235/235 [==============================] - 1s 3ms/step - loss: 0.0981 - val_loss: 0.0971\n",
      "Epoch 63/100\n",
      "235/235 [==============================] - 1s 2ms/step - loss: 0.0981 - val_loss: 0.0970\n",
      "Epoch 64/100\n",
      "235/235 [==============================] - 1s 2ms/step - loss: 0.0981 - val_loss: 0.0970\n",
      "Epoch 65/100\n",
      "235/235 [==============================] - 1s 3ms/step - loss: 0.0980 - val_loss: 0.0969\n",
      "Epoch 66/100\n",
      "235/235 [==============================] - 1s 3ms/step - loss: 0.0980 - val_loss: 0.0969\n",
      "Epoch 67/100\n",
      "235/235 [==============================] - 1s 3ms/step - loss: 0.0979 - val_loss: 0.0969\n",
      "Epoch 68/100\n",
      "235/235 [==============================] - 1s 3ms/step - loss: 0.0979 - val_loss: 0.0969\n",
      "Epoch 69/100\n",
      "235/235 [==============================] - 1s 2ms/step - loss: 0.0978 - val_loss: 0.0968\n",
      "Epoch 70/100\n",
      "235/235 [==============================] - 1s 2ms/step - loss: 0.0978 - val_loss: 0.0967\n",
      "Epoch 71/100\n",
      "235/235 [==============================] - 1s 3ms/step - loss: 0.0977 - val_loss: 0.0967\n",
      "Epoch 72/100\n",
      "235/235 [==============================] - 1s 3ms/step - loss: 0.0977 - val_loss: 0.0966\n",
      "Epoch 73/100\n",
      "235/235 [==============================] - 1s 3ms/step - loss: 0.0977 - val_loss: 0.0966\n",
      "Epoch 74/100\n",
      "235/235 [==============================] - 1s 3ms/step - loss: 0.0976 - val_loss: 0.0966\n",
      "Epoch 75/100\n",
      "235/235 [==============================] - 1s 3ms/step - loss: 0.0976 - val_loss: 0.0965\n",
      "Epoch 76/100\n",
      "235/235 [==============================] - 1s 3ms/step - loss: 0.0976 - val_loss: 0.0965\n",
      "Epoch 77/100\n",
      "235/235 [==============================] - 1s 3ms/step - loss: 0.0975 - val_loss: 0.0965\n",
      "Epoch 78/100\n",
      "235/235 [==============================] - 1s 3ms/step - loss: 0.0975 - val_loss: 0.0964\n",
      "Epoch 79/100\n",
      "235/235 [==============================] - 1s 3ms/step - loss: 0.0975 - val_loss: 0.0964\n",
      "Epoch 80/100\n",
      "235/235 [==============================] - 1s 3ms/step - loss: 0.0974 - val_loss: 0.0963\n",
      "Epoch 81/100\n",
      "235/235 [==============================] - 1s 2ms/step - loss: 0.0974 - val_loss: 0.0963\n",
      "Epoch 82/100\n",
      "235/235 [==============================] - 1s 2ms/step - loss: 0.0974 - val_loss: 0.0963\n",
      "Epoch 83/100\n",
      "235/235 [==============================] - 1s 2ms/step - loss: 0.0973 - val_loss: 0.0963\n",
      "Epoch 84/100\n",
      "235/235 [==============================] - 1s 2ms/step - loss: 0.0973 - val_loss: 0.0962\n",
      "Epoch 85/100\n",
      "235/235 [==============================] - 1s 3ms/step - loss: 0.0973 - val_loss: 0.0962\n",
      "Epoch 86/100\n",
      "235/235 [==============================] - 1s 2ms/step - loss: 0.0972 - val_loss: 0.0962\n",
      "Epoch 87/100\n",
      "235/235 [==============================] - 1s 3ms/step - loss: 0.0972 - val_loss: 0.0962\n",
      "Epoch 88/100\n",
      "235/235 [==============================] - 1s 3ms/step - loss: 0.0972 - val_loss: 0.0961\n",
      "Epoch 89/100\n",
      "235/235 [==============================] - 1s 2ms/step - loss: 0.0971 - val_loss: 0.0961\n",
      "Epoch 90/100\n",
      "235/235 [==============================] - 1s 3ms/step - loss: 0.0971 - val_loss: 0.0961\n",
      "Epoch 91/100\n",
      "235/235 [==============================] - 1s 2ms/step - loss: 0.0971 - val_loss: 0.0961\n",
      "Epoch 92/100\n",
      "235/235 [==============================] - 1s 2ms/step - loss: 0.0970 - val_loss: 0.0960\n",
      "Epoch 93/100\n",
      "235/235 [==============================] - 1s 3ms/step - loss: 0.0970 - val_loss: 0.0959\n",
      "Epoch 94/100\n",
      "235/235 [==============================] - 1s 3ms/step - loss: 0.0970 - val_loss: 0.0959\n",
      "Epoch 95/100\n",
      "235/235 [==============================] - 1s 3ms/step - loss: 0.0970 - val_loss: 0.0960\n",
      "Epoch 96/100\n",
      "235/235 [==============================] - 1s 2ms/step - loss: 0.0969 - val_loss: 0.0959\n",
      "Epoch 97/100\n",
      "235/235 [==============================] - 1s 3ms/step - loss: 0.0969 - val_loss: 0.0959\n",
      "Epoch 98/100\n",
      "235/235 [==============================] - 1s 3ms/step - loss: 0.0969 - val_loss: 0.0958\n",
      "Epoch 99/100\n",
      "235/235 [==============================] - 1s 3ms/step - loss: 0.0969 - val_loss: 0.0959\n",
      "Epoch 100/100\n",
      "235/235 [==============================] - 1s 3ms/step - loss: 0.0969 - val_loss: 0.0958\n"
     ]
    },
    {
     "data": {
      "text/plain": [
       "<keras.src.callbacks.History at 0x2c5438c10>"
      ]
     },
     "execution_count": 40,
     "metadata": {},
     "output_type": "execute_result"
    }
   ],
   "source": [
    "autoencoder.fit(x_train, x_train, epochs=100, batch_size=256, shuffle=True, validation_data=(x_test, x_test))"
   ]
  },
  {
   "cell_type": "code",
   "execution_count": 41,
   "metadata": {},
   "outputs": [],
   "source": [
    "encoder = keras.Model(input_img, encoded)\n",
    "encoded_input = keras.Input(shape=(encoding_dim,))\n",
    "decoder_layer = autoencoder.layers[-1]\n",
    "decoder = keras.Model(encoded_input, decoder_layer(encoded_input))"
   ]
  },
  {
   "cell_type": "code",
   "execution_count": 42,
   "metadata": {},
   "outputs": [
    {
     "name": "stdout",
     "output_type": "stream",
     "text": [
      "313/313 [==============================] - 0s 274us/step\n",
      "313/313 [==============================] - 0s 257us/step\n"
     ]
    }
   ],
   "source": [
    "# Encode and decode some digits\n",
    "# Note that we take them from the *test* set\n",
    "encoded_imgs = encoder.predict(x_test)\n",
    "decoded_imgs = decoder.predict(encoded_imgs)"
   ]
  },
  {
   "cell_type": "code",
   "execution_count": 43,
   "metadata": {},
   "outputs": [
    {
     "data": {
      "image/png": "[encoded data removed]",
      "text/plain": [
       "<Figure size 2000x400 with 20 Axes>"
      ]
     },
     "metadata": {},
     "output_type": "display_data"
    }
   ],
   "source": [
    "# Use Matplotlib (don't ask)\n",
    "import matplotlib.pyplot as plt\n",
    "\n",
    "n = 10  # How many digits we will display\n",
    "plt.figure(figsize=(20, 4))\n",
    "for i in range(n):\n",
    "    # Display original\n",
    "    ax = plt.subplot(2, n, i + 1)\n",
    "    plt.imshow(x_test[i].reshape(28, 28))\n",
    "    plt.gray()\n",
    "    ax.get_xaxis().set_visible(False)\n",
    "    ax.get_yaxis().set_visible(False)\n",
    "\n",
    "    # Display reconstruction\n",
    "    ax = plt.subplot(2, n, i + 1 + n)\n",
    "    plt.imshow(decoded_imgs[i].reshape(28, 28))\n",
    "    plt.gray()\n",
    "    ax.get_xaxis().set_visible(False)\n",
    "    ax.get_yaxis().set_visible(False)\n",
    "plt.show()"
   ]
  },
  {
   "cell_type": "markdown",
   "metadata": {},
   "source": [
    "They look pretty similar to the previous model, the only significant difference being the sparsity of the encoded representations. encoded_imgs.mean() yields a value 3.33 (over our 10,000 test images), whereas with the previous model the same quantity was 7.30. So our new model yields encoded representations that are twice sparser."
   ]
  },
  {
   "cell_type": "markdown",
   "metadata": {},
   "source": [
    "### Deep Autoencoder"
   ]
  },
  {
   "cell_type": "markdown",
   "metadata": {},
   "source": [
    "We do not have to limit ourselves to a single layer as encoder or decoder, we could instead use a stack of layers, such as:"
   ]
  },
  {
   "cell_type": "code",
   "execution_count": 44,
   "metadata": {},
   "outputs": [],
   "source": [
    "input_img = keras.Input(shape=(784,))\n",
    "encoded = layers.Dense(128, activation='relu')(input_img)\n",
    "encoded = layers.Dense(64, activation='relu')(encoded)\n",
    "encoded = layers.Dense(32, activation='relu')(encoded)\n",
    "\n",
    "decoded = layers.Dense(64, activation='relu')(encoded)\n",
    "decoded = layers.Dense(128, activation='relu')(decoded)\n",
    "decoded = layers.Dense(784, activation='sigmoid')(decoded)"
   ]
  },
  {
   "cell_type": "code",
   "execution_count": 45,
   "metadata": {},
   "outputs": [
    {
     "name": "stdout",
     "output_type": "stream",
     "text": [
      "Epoch 1/100\n",
      "235/235 [==============================] - 1s 4ms/step - loss: 0.2476 - val_loss: 0.1687\n",
      "Epoch 2/100\n",
      "235/235 [==============================] - 1s 4ms/step - loss: 0.1522 - val_loss: 0.1368\n",
      "Epoch 3/100\n",
      "235/235 [==============================] - 1s 4ms/step - loss: 0.1308 - val_loss: 0.1230\n",
      "Epoch 4/100\n",
      "235/235 [==============================] - 1s 4ms/step - loss: 0.1212 - val_loss: 0.1169\n",
      "Epoch 5/100\n",
      "235/235 [==============================] - 1s 4ms/step - loss: 0.1161 - val_loss: 0.1126\n",
      "Epoch 6/100\n",
      "235/235 [==============================] - 1s 4ms/step - loss: 0.1124 - val_loss: 0.1093\n",
      "Epoch 7/100\n",
      "235/235 [==============================] - 1s 4ms/step - loss: 0.1095 - val_loss: 0.1066\n",
      "Epoch 8/100\n",
      "235/235 [==============================] - 1s 4ms/step - loss: 0.1066 - val_loss: 0.1038\n",
      "Epoch 9/100\n",
      "235/235 [==============================] - 1s 4ms/step - loss: 0.1043 - val_loss: 0.1024\n",
      "Epoch 10/100\n",
      "235/235 [==============================] - 1s 4ms/step - loss: 0.1022 - val_loss: 0.1002\n",
      "Epoch 11/100\n",
      "235/235 [==============================] - 1s 4ms/step - loss: 0.1003 - val_loss: 0.0987\n",
      "Epoch 12/100\n",
      "235/235 [==============================] - 1s 4ms/step - loss: 0.0986 - val_loss: 0.0966\n",
      "Epoch 13/100\n",
      "235/235 [==============================] - 1s 4ms/step - loss: 0.0971 - val_loss: 0.0952\n",
      "Epoch 14/100\n",
      "235/235 [==============================] - 1s 4ms/step - loss: 0.0958 - val_loss: 0.0944\n",
      "Epoch 15/100\n",
      "235/235 [==============================] - 1s 4ms/step - loss: 0.0948 - val_loss: 0.0935\n",
      "Epoch 16/100\n",
      "235/235 [==============================] - 1s 4ms/step - loss: 0.0939 - val_loss: 0.0926\n",
      "Epoch 17/100\n",
      "235/235 [==============================] - 1s 4ms/step - loss: 0.0932 - val_loss: 0.0917\n",
      "Epoch 18/100\n",
      "235/235 [==============================] - 1s 4ms/step - loss: 0.0925 - val_loss: 0.0915\n",
      "Epoch 19/100\n",
      "235/235 [==============================] - 1s 4ms/step - loss: 0.0920 - val_loss: 0.0909\n",
      "Epoch 20/100\n",
      "235/235 [==============================] - 1s 4ms/step - loss: 0.0914 - val_loss: 0.0903\n",
      "Epoch 21/100\n",
      "235/235 [==============================] - 1s 4ms/step - loss: 0.0910 - val_loss: 0.0901\n",
      "Epoch 22/100\n",
      "235/235 [==============================] - 1s 4ms/step - loss: 0.0905 - val_loss: 0.0896\n",
      "Epoch 23/100\n",
      "235/235 [==============================] - 1s 4ms/step - loss: 0.0900 - val_loss: 0.0891\n",
      "Epoch 24/100\n",
      "235/235 [==============================] - 1s 4ms/step - loss: 0.0896 - val_loss: 0.0890\n",
      "Epoch 25/100\n",
      "235/235 [==============================] - 1s 5ms/step - loss: 0.0893 - val_loss: 0.0883\n",
      "Epoch 26/100\n",
      "235/235 [==============================] - 1s 5ms/step - loss: 0.0889 - val_loss: 0.0883\n",
      "Epoch 27/100\n",
      "235/235 [==============================] - 1s 5ms/step - loss: 0.0886 - val_loss: 0.0878\n",
      "Epoch 28/100\n",
      "235/235 [==============================] - 1s 4ms/step - loss: 0.0883 - val_loss: 0.0874\n",
      "Epoch 29/100\n",
      "235/235 [==============================] - 1s 4ms/step - loss: 0.0880 - val_loss: 0.0871\n",
      "Epoch 30/100\n",
      "235/235 [==============================] - 1s 4ms/step - loss: 0.0877 - val_loss: 0.0870\n",
      "Epoch 31/100\n",
      "235/235 [==============================] - 1s 4ms/step - loss: 0.0874 - val_loss: 0.0865\n",
      "Epoch 32/100\n",
      "235/235 [==============================] - 1s 4ms/step - loss: 0.0872 - val_loss: 0.0865\n",
      "Epoch 33/100\n",
      "235/235 [==============================] - 1s 4ms/step - loss: 0.0870 - val_loss: 0.0860\n",
      "Epoch 34/100\n",
      "235/235 [==============================] - 1s 4ms/step - loss: 0.0867 - val_loss: 0.0862\n",
      "Epoch 35/100\n",
      "235/235 [==============================] - 1s 4ms/step - loss: 0.0865 - val_loss: 0.0857\n",
      "Epoch 36/100\n",
      "235/235 [==============================] - 1s 4ms/step - loss: 0.0863 - val_loss: 0.0860\n",
      "Epoch 37/100\n",
      "235/235 [==============================] - 1s 4ms/step - loss: 0.0862 - val_loss: 0.0859\n",
      "Epoch 38/100\n",
      "235/235 [==============================] - 1s 4ms/step - loss: 0.0860 - val_loss: 0.0855\n",
      "Epoch 39/100\n",
      "235/235 [==============================] - 1s 4ms/step - loss: 0.0859 - val_loss: 0.0851\n",
      "Epoch 40/100\n",
      "235/235 [==============================] - 1s 4ms/step - loss: 0.0857 - val_loss: 0.0852\n",
      "Epoch 41/100\n",
      "235/235 [==============================] - 1s 4ms/step - loss: 0.0856 - val_loss: 0.0851\n",
      "Epoch 42/100\n",
      "235/235 [==============================] - 1s 4ms/step - loss: 0.0855 - val_loss: 0.0848\n",
      "Epoch 43/100\n",
      "235/235 [==============================] - 1s 4ms/step - loss: 0.0853 - val_loss: 0.0847\n",
      "Epoch 44/100\n",
      "235/235 [==============================] - 1s 4ms/step - loss: 0.0852 - val_loss: 0.0845\n",
      "Epoch 45/100\n",
      "235/235 [==============================] - 1s 4ms/step - loss: 0.0850 - val_loss: 0.0848\n",
      "Epoch 46/100\n",
      "235/235 [==============================] - 1s 4ms/step - loss: 0.0850 - val_loss: 0.0845\n",
      "Epoch 47/100\n",
      "235/235 [==============================] - 1s 4ms/step - loss: 0.0848 - val_loss: 0.0845\n",
      "Epoch 48/100\n",
      "235/235 [==============================] - 1s 5ms/step - loss: 0.0847 - val_loss: 0.0843\n",
      "Epoch 49/100\n",
      "235/235 [==============================] - 1s 4ms/step - loss: 0.0846 - val_loss: 0.0842\n",
      "Epoch 50/100\n",
      "235/235 [==============================] - 1s 4ms/step - loss: 0.0845 - val_loss: 0.0842\n",
      "Epoch 51/100\n",
      "235/235 [==============================] - 1s 4ms/step - loss: 0.0844 - val_loss: 0.0838\n",
      "Epoch 52/100\n",
      "235/235 [==============================] - 1s 4ms/step - loss: 0.0842 - val_loss: 0.0837\n",
      "Epoch 53/100\n",
      "235/235 [==============================] - 1s 4ms/step - loss: 0.0841 - val_loss: 0.0837\n",
      "Epoch 54/100\n",
      "235/235 [==============================] - 1s 4ms/step - loss: 0.0840 - val_loss: 0.0835\n",
      "Epoch 55/100\n",
      "235/235 [==============================] - 1s 4ms/step - loss: 0.0839 - val_loss: 0.0834\n",
      "Epoch 56/100\n",
      "235/235 [==============================] - 1s 4ms/step - loss: 0.0838 - val_loss: 0.0835\n",
      "Epoch 57/100\n",
      "235/235 [==============================] - 1s 4ms/step - loss: 0.0837 - val_loss: 0.0832\n",
      "Epoch 58/100\n",
      "235/235 [==============================] - 1s 4ms/step - loss: 0.0836 - val_loss: 0.0832\n",
      "Epoch 59/100\n",
      "235/235 [==============================] - 1s 4ms/step - loss: 0.0835 - val_loss: 0.0831\n",
      "Epoch 60/100\n",
      "235/235 [==============================] - 1s 4ms/step - loss: 0.0835 - val_loss: 0.0830\n",
      "Epoch 61/100\n",
      "235/235 [==============================] - 1s 4ms/step - loss: 0.0834 - val_loss: 0.0829\n",
      "Epoch 62/100\n",
      "235/235 [==============================] - 1s 4ms/step - loss: 0.0833 - val_loss: 0.0830\n",
      "Epoch 63/100\n",
      "235/235 [==============================] - 1s 4ms/step - loss: 0.0832 - val_loss: 0.0830\n",
      "Epoch 64/100\n",
      "235/235 [==============================] - 1s 4ms/step - loss: 0.0832 - val_loss: 0.0828\n",
      "Epoch 65/100\n",
      "235/235 [==============================] - 1s 4ms/step - loss: 0.0831 - val_loss: 0.0826\n",
      "Epoch 66/100\n",
      "235/235 [==============================] - 1s 4ms/step - loss: 0.0830 - val_loss: 0.0828\n",
      "Epoch 67/100\n",
      "235/235 [==============================] - 1s 4ms/step - loss: 0.0830 - val_loss: 0.0828\n",
      "Epoch 68/100\n",
      "235/235 [==============================] - 1s 4ms/step - loss: 0.0829 - val_loss: 0.0826\n",
      "Epoch 69/100\n",
      "235/235 [==============================] - 1s 4ms/step - loss: 0.0829 - val_loss: 0.0827\n",
      "Epoch 70/100\n",
      "235/235 [==============================] - 1s 4ms/step - loss: 0.0829 - val_loss: 0.0825\n",
      "Epoch 71/100\n",
      "235/235 [==============================] - 1s 4ms/step - loss: 0.0828 - val_loss: 0.0824\n",
      "Epoch 72/100\n",
      "235/235 [==============================] - 1s 4ms/step - loss: 0.0827 - val_loss: 0.0826\n",
      "Epoch 73/100\n",
      "235/235 [==============================] - 1s 4ms/step - loss: 0.0827 - val_loss: 0.0823\n",
      "Epoch 74/100\n",
      "235/235 [==============================] - 1s 4ms/step - loss: 0.0826 - val_loss: 0.0823\n",
      "Epoch 75/100\n",
      "235/235 [==============================] - 1s 4ms/step - loss: 0.0826 - val_loss: 0.0823\n",
      "Epoch 76/100\n",
      "235/235 [==============================] - 1s 4ms/step - loss: 0.0826 - val_loss: 0.0822\n",
      "Epoch 77/100\n",
      "235/235 [==============================] - 1s 4ms/step - loss: 0.0825 - val_loss: 0.0823\n",
      "Epoch 78/100\n",
      "235/235 [==============================] - 1s 4ms/step - loss: 0.0824 - val_loss: 0.0825\n",
      "Epoch 79/100\n",
      "235/235 [==============================] - 1s 4ms/step - loss: 0.0824 - val_loss: 0.0822\n",
      "Epoch 80/100\n",
      "235/235 [==============================] - 1s 4ms/step - loss: 0.0824 - val_loss: 0.0822\n",
      "Epoch 81/100\n",
      "235/235 [==============================] - 1s 4ms/step - loss: 0.0824 - val_loss: 0.0819\n",
      "Epoch 82/100\n",
      "235/235 [==============================] - 1s 4ms/step - loss: 0.0823 - val_loss: 0.0821\n",
      "Epoch 83/100\n",
      "235/235 [==============================] - 1s 4ms/step - loss: 0.0822 - val_loss: 0.0819\n",
      "Epoch 84/100\n",
      "235/235 [==============================] - 1s 4ms/step - loss: 0.0822 - val_loss: 0.0821\n",
      "Epoch 85/100\n",
      "235/235 [==============================] - 1s 4ms/step - loss: 0.0822 - val_loss: 0.0819\n",
      "Epoch 86/100\n",
      "235/235 [==============================] - 1s 4ms/step - loss: 0.0821 - val_loss: 0.0822\n",
      "Epoch 87/100\n",
      "235/235 [==============================] - 1s 4ms/step - loss: 0.0821 - val_loss: 0.0820\n",
      "Epoch 88/100\n",
      "235/235 [==============================] - 1s 4ms/step - loss: 0.0821 - val_loss: 0.0820\n",
      "Epoch 89/100\n",
      "235/235 [==============================] - 1s 4ms/step - loss: 0.0821 - val_loss: 0.0821\n",
      "Epoch 90/100\n",
      "235/235 [==============================] - 1s 4ms/step - loss: 0.0820 - val_loss: 0.0819\n",
      "Epoch 91/100\n",
      "235/235 [==============================] - 1s 4ms/step - loss: 0.0820 - val_loss: 0.0818\n",
      "Epoch 92/100\n",
      "235/235 [==============================] - 1s 4ms/step - loss: 0.0820 - val_loss: 0.0816\n",
      "Epoch 93/100\n",
      "235/235 [==============================] - 1s 4ms/step - loss: 0.0819 - val_loss: 0.0815\n",
      "Epoch 94/100\n",
      "235/235 [==============================] - 1s 4ms/step - loss: 0.0819 - val_loss: 0.0817\n",
      "Epoch 95/100\n",
      "235/235 [==============================] - 1s 4ms/step - loss: 0.0818 - val_loss: 0.0817\n",
      "Epoch 96/100\n",
      "235/235 [==============================] - 1s 4ms/step - loss: 0.0818 - val_loss: 0.0816\n",
      "Epoch 97/100\n",
      "235/235 [==============================] - 1s 4ms/step - loss: 0.0818 - val_loss: 0.0814\n",
      "Epoch 98/100\n",
      "235/235 [==============================] - 1s 4ms/step - loss: 0.0818 - val_loss: 0.0816\n",
      "Epoch 99/100\n",
      "235/235 [==============================] - 1s 4ms/step - loss: 0.0817 - val_loss: 0.0816\n",
      "Epoch 100/100\n",
      "235/235 [==============================] - 1s 4ms/step - loss: 0.0817 - val_loss: 0.0814\n"
     ]
    },
    {
     "data": {
      "text/plain": [
       "<keras.src.callbacks.History at 0x2d0b77d50>"
      ]
     },
     "execution_count": 45,
     "metadata": {},
     "output_type": "execute_result"
    }
   ],
   "source": [
    "autoencoder = keras.Model(input_img, decoded)\n",
    "autoencoder.compile(optimizer='adam', loss='binary_crossentropy')\n",
    "\n",
    "autoencoder.fit(x_train, x_train,\n",
    "                epochs=100,\n",
    "                batch_size=256,\n",
    "                shuffle=True,\n",
    "                validation_data=(x_test, x_test))"
   ]
  },
  {
   "cell_type": "markdown",
   "metadata": {},
   "source": [
    "After 100 epochs, it reaches a train and validation loss of ~0.08, a bit better than our previous models. Our reconstructed digits look a bit better too:"
   ]
  },
  {
   "cell_type": "code",
   "execution_count": 58,
   "metadata": {},
   "outputs": [
    {
     "name": "stdout",
     "output_type": "stream",
     "text": [
      "313/313 [==============================] - 0s 476us/step\n"
     ]
    }
   ],
   "source": [
    "predicted_values = autoencoder.predict(x_test)"
   ]
  },
  {
   "cell_type": "code",
   "execution_count": 59,
   "metadata": {},
   "outputs": [
    {
     "data": {
      "image/png": "[encoded data removed]",
      "text/plain": [
       "<Figure size 2000x400 with 20 Axes>"
      ]
     },
     "metadata": {},
     "output_type": "display_data"
    }
   ],
   "source": [
    "# Use Matplotlib (don't ask)\n",
    "import matplotlib.pyplot as plt\n",
    "\n",
    "n = 10  # How many digits we will display\n",
    "plt.figure(figsize=(20, 4))\n",
    "for i in range(n):\n",
    "    # Display original\n",
    "    ax = plt.subplot(2, n, i + 1)\n",
    "    plt.imshow(x_test[i].reshape(28, 28))\n",
    "    plt.gray()\n",
    "    ax.get_xaxis().set_visible(False)\n",
    "    ax.get_yaxis().set_visible(False)\n",
    "\n",
    "    # Display reconstruction\n",
    "    ax = plt.subplot(2, n, i + 1 + n)\n",
    "    plt.imshow(predicted_values[i].reshape(28, 28))\n",
    "    plt.gray()\n",
    "    ax.get_xaxis().set_visible(False)\n",
    "    ax.get_yaxis().set_visible(False)\n",
    "plt.show()"
   ]
  },
  {
   "cell_type": "markdown",
   "metadata": {},
   "source": [
    "### Convolutional Autoencoder\n",
    "Since our inputs are images, it makes sense to use convolutional neural networks (convnets) as encoders and decoders. In practical settings, autoencoders applied to images are always convolutional autoencoders --they simply perform much better.\n",
    "\n",
    "Let's implement one. The encoder will consist in a stack of Conv2D and MaxPooling2D layers (max pooling being used for spatial down-sampling), while the decoder will consist in a stack of Conv2D and UpSampling2D layers"
   ]
  },
  {
   "cell_type": "code",
   "execution_count": 61,
   "metadata": {},
   "outputs": [],
   "source": [
    "input_img = keras.Input(shape=(28, 28, 1))\n",
    "\n",
    "x = layers.Conv2D(16, (3,3), activation='relu', padding='same')(input_img)\n",
    "x = layers.MaxPooling2D((2,2), padding='same')(x)\n",
    "x = layers.Conv2D(8, (3, 3), activation='relu', padding='same')(x)\n",
    "x = layers.MaxPooling2D((2, 2), padding='same')(x)\n",
    "x = layers.Conv2D(8, (3, 3), activation='relu', padding='same')(x)\n",
    "encoded = layers.MaxPooling2D((2, 2), padding='same')(x)\n",
    "\n",
    "# at this point the representation is (4, 4, 8) i.e. 128-dimensional\n",
    "x = layers.Conv2D(8, (3, 3), activation='relu', padding='same')(encoded)\n",
    "x = layers.UpSampling2D((2, 2))(x)\n",
    "x = layers.Conv2D(8, (3, 3), activation='relu', padding='same')(x)\n",
    "x = layers.UpSampling2D((2, 2))(x)\n",
    "x = layers.Conv2D(16, (3, 3), activation='relu')(x)\n",
    "x = layers.UpSampling2D((2, 2))(x)\n",
    "\n",
    "decoded = layers.Conv2D(1, (3, 3), activation='sigmoid', padding='same')(x)\n",
    "\n",
    "autoencoder = keras.Model(input_img, decoded)\n",
    "autoencoder.compile(optimizer='adam', loss='binary_crossentropy')"
   ]
  },
  {
   "cell_type": "markdown",
   "metadata": {},
   "source": [
    "To train it, we will use the original MNIST digits with shape (samples, 3, 28, 28), and we will just normalize pixel values between 0 and 1.\n"
   ]
  },
  {
   "cell_type": "code",
   "execution_count": 62,
   "metadata": {},
   "outputs": [],
   "source": [
    "from keras.datasets import mnist\n",
    "import numpy as np\n",
    "\n",
    "(x_train, _), (x_test, _) = mnist.load_data()\n",
    "\n",
    "x_train = x_train.astype('float32') / 255.\n",
    "x_test = x_test.astype('float32') / 255.\n",
    "x_train = np.reshape(x_train, (len(x_train), 28, 28, 1))\n",
    "x_test = np.reshape(x_test, (len(x_test), 28, 28, 1))"
   ]
  },
  {
   "cell_type": "markdown",
   "metadata": {},
   "source": [
    "Let's train this model for 50 epochs. For the sake of demonstrating how to visualize the results of a model during training, we will be using the TensorFlow backend and the TensorBoard callback.\n",
    "\n"
   ]
  },
  {
   "cell_type": "markdown",
   "metadata": {},
   "source": [
    "Then let's train our model. In the callbacks list we pass an instance of the TensorBoard callback. After every epoch, this callback will write logs to /tmp/autoencoder, which can be read by our TensorBoard server.\n",
    "\n"
   ]
  },
  {
   "cell_type": "code",
   "execution_count": 64,
   "metadata": {},
   "outputs": [
    {
     "name": "stdout",
     "output_type": "stream",
     "text": [
      "Epoch 1/50\n",
      "469/469 [==============================] - 11s 23ms/step - loss: 0.2172 - val_loss: 0.1423\n",
      "Epoch 2/50\n",
      "469/469 [==============================] - 11s 23ms/step - loss: 0.1319 - val_loss: 0.1225\n",
      "Epoch 3/50\n",
      "469/469 [==============================] - 11s 23ms/step - loss: 0.1194 - val_loss: 0.1148\n",
      "Epoch 4/50\n",
      "469/469 [==============================] - 11s 23ms/step - loss: 0.1135 - val_loss: 0.1098\n",
      "Epoch 5/50\n",
      "469/469 [==============================] - 11s 24ms/step - loss: 0.1093 - val_loss: 0.1066\n",
      "Epoch 6/50\n",
      "469/469 [==============================] - 11s 24ms/step - loss: 0.1065 - val_loss: 0.1041\n",
      "Epoch 7/50\n",
      "469/469 [==============================] - 11s 23ms/step - loss: 0.1043 - val_loss: 0.1021\n",
      "Epoch 8/50\n",
      "469/469 [==============================] - 11s 22ms/step - loss: 0.1026 - val_loss: 0.1008\n",
      "Epoch 9/50\n",
      "469/469 [==============================] - 11s 22ms/step - loss: 0.1013 - val_loss: 0.0998\n",
      "Epoch 10/50\n",
      "469/469 [==============================] - 11s 23ms/step - loss: 0.1001 - val_loss: 0.0984\n",
      "Epoch 11/50\n",
      "469/469 [==============================] - 11s 23ms/step - loss: 0.0992 - val_loss: 0.0975\n",
      "Epoch 12/50\n",
      "469/469 [==============================] - 11s 23ms/step - loss: 0.0984 - val_loss: 0.0965\n",
      "Epoch 13/50\n",
      "469/469 [==============================] - 11s 22ms/step - loss: 0.0976 - val_loss: 0.0961\n",
      "Epoch 14/50\n",
      "469/469 [==============================] - 11s 23ms/step - loss: 0.0970 - val_loss: 0.0954\n",
      "Epoch 15/50\n",
      "469/469 [==============================] - 11s 22ms/step - loss: 0.0964 - val_loss: 0.0949\n",
      "Epoch 16/50\n",
      "469/469 [==============================] - 11s 23ms/step - loss: 0.0958 - val_loss: 0.0943\n",
      "Epoch 17/50\n",
      "469/469 [==============================] - 11s 23ms/step - loss: 0.0953 - val_loss: 0.0941\n",
      "Epoch 18/50\n",
      "469/469 [==============================] - 11s 23ms/step - loss: 0.0949 - val_loss: 0.0935\n",
      "Epoch 19/50\n",
      "469/469 [==============================] - 11s 23ms/step - loss: 0.0945 - val_loss: 0.0929\n",
      "Epoch 20/50\n",
      "469/469 [==============================] - 11s 23ms/step - loss: 0.0940 - val_loss: 0.0926\n",
      "Epoch 21/50\n",
      "469/469 [==============================] - 11s 22ms/step - loss: 0.0936 - val_loss: 0.0924\n",
      "Epoch 22/50\n",
      "469/469 [==============================] - 10s 22ms/step - loss: 0.0933 - val_loss: 0.0923\n",
      "Epoch 23/50\n",
      "469/469 [==============================] - 11s 23ms/step - loss: 0.0930 - val_loss: 0.0916\n",
      "Epoch 24/50\n",
      "469/469 [==============================] - 11s 22ms/step - loss: 0.0927 - val_loss: 0.0914\n",
      "Epoch 25/50\n",
      "469/469 [==============================] - 11s 24ms/step - loss: 0.0924 - val_loss: 0.0911\n",
      "Epoch 26/50\n",
      "469/469 [==============================] - 11s 23ms/step - loss: 0.0921 - val_loss: 0.0911\n",
      "Epoch 27/50\n",
      "469/469 [==============================] - 11s 24ms/step - loss: 0.0919 - val_loss: 0.0908\n",
      "Epoch 28/50\n",
      "469/469 [==============================] - 11s 24ms/step - loss: 0.0916 - val_loss: 0.0904\n",
      "Epoch 29/50\n",
      "469/469 [==============================] - 10s 22ms/step - loss: 0.0914 - val_loss: 0.0901\n",
      "Epoch 30/50\n",
      "469/469 [==============================] - 11s 23ms/step - loss: 0.0912 - val_loss: 0.0900\n",
      "Epoch 31/50\n",
      "469/469 [==============================] - 11s 23ms/step - loss: 0.0911 - val_loss: 0.0905\n",
      "Epoch 32/50\n",
      "469/469 [==============================] - 11s 22ms/step - loss: 0.0908 - val_loss: 0.0897\n",
      "Epoch 33/50\n",
      "469/469 [==============================] - 10s 22ms/step - loss: 0.0907 - val_loss: 0.0894\n",
      "Epoch 34/50\n",
      "469/469 [==============================] - 11s 22ms/step - loss: 0.0905 - val_loss: 0.0892\n",
      "Epoch 35/50\n",
      "469/469 [==============================] - 10s 22ms/step - loss: 0.0904 - val_loss: 0.0894\n",
      "Epoch 36/50\n",
      "469/469 [==============================] - 11s 23ms/step - loss: 0.0902 - val_loss: 0.0890\n",
      "Epoch 37/50\n",
      "469/469 [==============================] - 11s 24ms/step - loss: 0.0900 - val_loss: 0.0888\n",
      "Epoch 38/50\n",
      "469/469 [==============================] - 11s 24ms/step - loss: 0.0899 - val_loss: 0.0887\n",
      "Epoch 39/50\n",
      "469/469 [==============================] - 11s 23ms/step - loss: 0.0897 - val_loss: 0.0887\n",
      "Epoch 40/50\n",
      "469/469 [==============================] - 11s 24ms/step - loss: 0.0896 - val_loss: 0.0886\n",
      "Epoch 41/50\n",
      "469/469 [==============================] - 11s 24ms/step - loss: 0.0895 - val_loss: 0.0885\n",
      "Epoch 42/50\n",
      "469/469 [==============================] - 11s 24ms/step - loss: 0.0893 - val_loss: 0.0882\n",
      "Epoch 43/50\n",
      "469/469 [==============================] - 11s 24ms/step - loss: 0.0893 - val_loss: 0.0879\n",
      "Epoch 44/50\n",
      "469/469 [==============================] - 11s 23ms/step - loss: 0.0891 - val_loss: 0.0880\n",
      "Epoch 45/50\n",
      "469/469 [==============================] - 11s 23ms/step - loss: 0.0890 - val_loss: 0.0878\n",
      "Epoch 46/50\n",
      "469/469 [==============================] - 11s 24ms/step - loss: 0.0889 - val_loss: 0.0876\n",
      "Epoch 47/50\n",
      "469/469 [==============================] - 11s 24ms/step - loss: 0.0888 - val_loss: 0.0884\n",
      "Epoch 48/50\n",
      "469/469 [==============================] - 11s 23ms/step - loss: 0.0887 - val_loss: 0.0879\n",
      "Epoch 49/50\n",
      "469/469 [==============================] - 12s 26ms/step - loss: 0.0886 - val_loss: 0.0878\n",
      "Epoch 50/50\n",
      "469/469 [==============================] - 12s 25ms/step - loss: 0.0885 - val_loss: 0.0874\n"
     ]
    },
    {
     "data": {
      "text/plain": [
       "<keras.src.callbacks.History at 0x2d547e290>"
      ]
     },
     "execution_count": 64,
     "metadata": {},
     "output_type": "execute_result"
    }
   ],
   "source": [
    "from keras.callbacks import TensorBoard\n",
    "\n",
    "autoencoder.fit(x_train, x_train, epochs=50, batch_size=128, shuffle=True, validation_data=(x_test, x_test), callbacks=[TensorBoard(log_dir = '/tmp/autoencoder')])"
   ]
  },
  {
   "cell_type": "markdown",
   "metadata": {},
   "source": [
    "The model converges to a loss of 0.09, significantly better than our previous models (this is in large part due to the higher entropic capacity of the encoded representation, 128 dimensions vs. 32 previously). Let's take a look at the reconstructed digits:\n",
    "\n"
   ]
  },
  {
   "cell_type": "code",
   "execution_count": 65,
   "metadata": {},
   "outputs": [
    {
     "name": "stdout",
     "output_type": "stream",
     "text": [
      "313/313 [==============================] - 1s 2ms/step\n"
     ]
    },
    {
     "data": {
      "image/png": "[encoded data removed]",
      "text/plain": [
       "<Figure size 2000x400 with 20 Axes>"
      ]
     },
     "metadata": {},
     "output_type": "display_data"
    }
   ],
   "source": [
    "decoded_imgs = autoencoder.predict(x_test)\n",
    "\n",
    "n = 10\n",
    "plt.figure(figsize=(20, 4))\n",
    "for i in range(1, n + 1):\n",
    "    # Display original\n",
    "    ax = plt.subplot(2, n, i)\n",
    "    plt.imshow(x_test[i].reshape(28, 28))\n",
    "    plt.gray()\n",
    "    ax.get_xaxis().set_visible(False)\n",
    "    ax.get_yaxis().set_visible(False)\n",
    "\n",
    "    # Display reconstruction\n",
    "    ax = plt.subplot(2, n, i + n)\n",
    "    plt.imshow(decoded_imgs[i].reshape(28, 28))\n",
    "    plt.gray()\n",
    "    ax.get_xaxis().set_visible(False)\n",
    "    ax.get_yaxis().set_visible(False)\n",
    "plt.show()"
   ]
  }
 ],
 "metadata": {
  "kernelspec": {
   "display_name": "Python 3 (ipykernel)",
   "language": "python",
   "name": "python3"
  },
  "language_info": {
   "codemirror_mode": {
    "name": "ipython",
    "version": 3
   },
   "file_extension": ".py",
   "mimetype": "text/x-python",
   "name": "python",
   "nbconvert_exporter": "python",
   "pygments_lexer": "ipython3",
   "version": "3.11.5"
  },
  "orig_nbformat": 4
 },
 "nbformat": 4,
 "nbformat_minor": 2
}
